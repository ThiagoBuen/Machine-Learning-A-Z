{
  "nbformat": 4,
  "nbformat_minor": 0,
  "metadata": {
    "colab": {
      "name": "ML-AZ-Sec13-RegressionModelSelection.ipynb",
      "provenance": [],
      "collapsed_sections": []
    },
    "kernelspec": {
      "display_name": "Python 3",
      "name": "python3"
    }
  },
  "cells": [
    {
      "cell_type": "markdown",
      "metadata": {
        "id": "l_LulNCC8z96"
      },
      "source": [
        "## Regression Model Selection\n",
        "\n",
        "1.   Use the learned Regression Models so far and select the best one based on their performance result.\n",
        "2.   **Input** = Data.csv \n",
        "\n",
        "UCI ML repository\n",
        "\n",
        "\n",
        "\n"
      ]
    },
    {
      "cell_type": "markdown",
      "metadata": {
        "id": "xpXdowrE9DxW"
      },
      "source": [
        "## Importing the libraries"
      ]
    },
    {
      "cell_type": "code",
      "metadata": {
        "id": "nhKd4hWx9GFt"
      },
      "source": [
        "import numpy as np\n",
        "import matplotlib.pyplot as plt       #graphs\n",
        "import pandas as pd"
      ],
      "execution_count": 53,
      "outputs": []
    },
    {
      "cell_type": "markdown",
      "metadata": {
        "id": "31oDCD5JFvri"
      },
      "source": [
        "# Importing the dataset"
      ]
    },
    {
      "cell_type": "code",
      "metadata": {
        "id": "XCX22pc2F8Cz"
      },
      "source": [
        "dataset = pd.read_csv('Data.csv')\n",
        "XMLR = dataset.iloc[:, 1:-1].values      #There is no need to use the column Position\n",
        "XPR = dataset.iloc[:, 1:-1].values      #There is no need to use the column Position\n",
        "XSVR = dataset.iloc[:, 1:-1].values      #There is no need to use the column Position\n",
        "XDTR = dataset.iloc[:, 1:-1].values      #There is no need to use the column Position\n",
        "XRFR = dataset.iloc[:, 1:-1].values      #There is no need to use the column Position\n",
        "yMLR = dataset.iloc[:,-1].values\n",
        "yPR = dataset.iloc[:,-1].values\n",
        "ySVR = dataset.iloc[:,-1].values\n",
        "yDTR = dataset.iloc[:,-1].values\n",
        "yRFR = dataset.iloc[:,-1].values\n",
        "\n"
      ],
      "execution_count": 54,
      "outputs": []
    },
    {
      "cell_type": "markdown",
      "metadata": {
        "id": "9FS_CMupdWvR"
      },
      "source": [
        "##Creating the models"
      ]
    },
    {
      "cell_type": "markdown",
      "metadata": {
        "id": "8rVod05silKK"
      },
      "source": [
        "1) Multiple Linear Regression"
      ]
    },
    {
      "cell_type": "code",
      "metadata": {
        "id": "h6aLyW-ndVhE"
      },
      "source": [
        "# Multiple Linear Regression: Split dataset into Traning and Test sets\n",
        "from sklearn.model_selection import train_test_split\n",
        "X_trainMLR, X_testMLR, y_trainMLR, y_testMLR = train_test_split(XMLR, yMLR, test_size = 0.2, random_state = 0)"
      ],
      "execution_count": 55,
      "outputs": []
    },
    {
      "cell_type": "markdown",
      "metadata": {
        "id": "vQvmGe-dinn7"
      },
      "source": [
        "2) Polynomial Regression"
      ]
    },
    {
      "cell_type": "code",
      "metadata": {
        "id": "IYtiy8eGhHyU"
      },
      "source": [
        "# Polynomial Regression\n",
        "from sklearn.model_selection import train_test_split\n",
        "X_trainPR, X_testPR, y_trainPR, y_testPR = train_test_split(XPR, yPR, test_size = 0.2, random_state = 0)"
      ],
      "execution_count": 56,
      "outputs": []
    },
    {
      "cell_type": "markdown",
      "metadata": {
        "id": "FCwYZrj8ipbL"
      },
      "source": [
        "3) Support Vector Regression (SVR)"
      ]
    },
    {
      "cell_type": "code",
      "metadata": {
        "id": "hlL4ZDYPiruj"
      },
      "source": [
        "y_SVR = ySVR.reshape(len(y),1)"
      ],
      "execution_count": 57,
      "outputs": []
    },
    {
      "cell_type": "code",
      "metadata": {
        "id": "s29-glnhiw2j"
      },
      "source": [
        "from sklearn.model_selection import train_test_split\n",
        "X_trainSVR, X_testSVR, y_trainSVR, y_testSVR = train_test_split(XSVR,y_SVR, test_size=0.2, random_state = 0)"
      ],
      "execution_count": 58,
      "outputs": []
    },
    {
      "cell_type": "markdown",
      "metadata": {
        "id": "uuA2VA9JlSA4"
      },
      "source": [
        "4) Decision Tree Regression"
      ]
    },
    {
      "cell_type": "code",
      "metadata": {
        "id": "VEPFLskdlU9g"
      },
      "source": [
        "from sklearn.model_selection import train_test_split\n",
        "X_trainDTR, X_testDTR, y_trainDTR, y_testDTR = train_test_split(XDTR, yDTR, test_size=0.2, random_state =0)"
      ],
      "execution_count": 59,
      "outputs": []
    },
    {
      "cell_type": "markdown",
      "metadata": {
        "id": "rV69-DRkncQt"
      },
      "source": [
        "5) Random Forest Regression"
      ]
    },
    {
      "cell_type": "code",
      "metadata": {
        "id": "mnfyIdzTneca"
      },
      "source": [
        "from sklearn.model_selection import train_test_split\n",
        "X_trainRFR, X_testRFR, y_trainRFR, y_testRFR = train_test_split(XRFR, yRFR, test_size=0.2, random_state =0)"
      ],
      "execution_count": 60,
      "outputs": []
    },
    {
      "cell_type": "markdown",
      "metadata": {
        "id": "YsgM4SdJi-XS"
      },
      "source": [
        "# Feature Scaling"
      ]
    },
    {
      "cell_type": "markdown",
      "metadata": {
        "id": "Yti4ClHVjCpy"
      },
      "source": [
        "3) SVR"
      ]
    },
    {
      "cell_type": "code",
      "metadata": {
        "id": "nVBZTv5VjCFD"
      },
      "source": [
        "from sklearn.preprocessing import StandardScaler\n",
        "sc_xSVR = StandardScaler()\n",
        "sc_ySVR = StandardScaler()\n",
        "X_trainSVR = sc_xSVR.fit_transform(X_trainSVR)\n",
        "y_trainSVR = sc_ySVR.fit_transform(y_trainSVR)"
      ],
      "execution_count": 61,
      "outputs": []
    },
    {
      "cell_type": "markdown",
      "metadata": {
        "id": "E--Vc-xXF-Si"
      },
      "source": [
        "# Training the Regressions model on the whole dataset"
      ]
    },
    {
      "cell_type": "markdown",
      "metadata": {
        "id": "oC_uMH3cigac"
      },
      "source": [
        "1) Multiple Linear Regression"
      ]
    },
    {
      "cell_type": "code",
      "metadata": {
        "colab": {
          "base_uri": "https://localhost:8080/"
        },
        "id": "U7YXTmFdfc_w",
        "outputId": "1cd3a3f4-326c-4589-9467-3ea421e31ac0"
      },
      "source": [
        "from sklearn.linear_model import LinearRegression\n",
        "regressorMLR = LinearRegression()\n",
        "regressorMLR.fit(X_trainMLR, y_trainMLR)"
      ],
      "execution_count": 62,
      "outputs": [
        {
          "output_type": "execute_result",
          "data": {
            "text/plain": [
              "LinearRegression(copy_X=True, fit_intercept=True, n_jobs=None, normalize=False)"
            ]
          },
          "metadata": {},
          "execution_count": 62
        }
      ]
    },
    {
      "cell_type": "markdown",
      "metadata": {
        "id": "H5vbkjS8iiwj"
      },
      "source": [
        "2) Polynomial Regression"
      ]
    },
    {
      "cell_type": "code",
      "metadata": {
        "colab": {
          "base_uri": "https://localhost:8080/"
        },
        "id": "UesSM9FGhC69",
        "outputId": "b80de0f9-96ff-4057-8391-f2e3628d4100"
      },
      "source": [
        "from sklearn.preprocessing import PolynomialFeatures\n",
        "from sklearn.linear_model import LinearRegression\n",
        "polyRegress = PolynomialFeatures(degree = 4)\n",
        "X_PR = polyRegress.fit_transform(X_trainPR)\n",
        "regressorPR = LinearRegression()\n",
        "regressorPR.fit(X_PR, y_trainPR)"
      ],
      "execution_count": 63,
      "outputs": [
        {
          "output_type": "execute_result",
          "data": {
            "text/plain": [
              "LinearRegression(copy_X=True, fit_intercept=True, n_jobs=None, normalize=False)"
            ]
          },
          "metadata": {},
          "execution_count": 63
        }
      ]
    },
    {
      "cell_type": "markdown",
      "metadata": {
        "id": "_12qgyxqkKQU"
      },
      "source": [
        "3) SVR"
      ]
    },
    {
      "cell_type": "code",
      "metadata": {
        "colab": {
          "base_uri": "https://localhost:8080/"
        },
        "id": "0wsLUh8ZkL7a",
        "outputId": "9471db6d-ee36-4447-c1e0-a45c50af5e29"
      },
      "source": [
        "from sklearn.svm import SVR\n",
        "regressorSVR = SVR(kernel = 'rbf')\n",
        "regressorSVR.fit(X_trainSVR, y_trainSVR)"
      ],
      "execution_count": 64,
      "outputs": [
        {
          "output_type": "stream",
          "name": "stderr",
          "text": [
            "/usr/local/lib/python3.7/dist-packages/sklearn/utils/validation.py:760: DataConversionWarning: A column-vector y was passed when a 1d array was expected. Please change the shape of y to (n_samples, ), for example using ravel().\n",
            "  y = column_or_1d(y, warn=True)\n"
          ]
        },
        {
          "output_type": "execute_result",
          "data": {
            "text/plain": [
              "SVR(C=1.0, cache_size=200, coef0=0.0, degree=3, epsilon=0.1, gamma='scale',\n",
              "    kernel='rbf', max_iter=-1, shrinking=True, tol=0.001, verbose=False)"
            ]
          },
          "metadata": {},
          "execution_count": 64
        }
      ]
    },
    {
      "cell_type": "markdown",
      "metadata": {
        "id": "vfpsavccl7oH"
      },
      "source": [
        "4) Decision Tree Regression"
      ]
    },
    {
      "cell_type": "code",
      "metadata": {
        "colab": {
          "base_uri": "https://localhost:8080/"
        },
        "id": "hoHdtvill7Yw",
        "outputId": "bafb0f38-b36d-43b6-a888-a67442e27d50"
      },
      "source": [
        "from sklearn.tree import DecisionTreeRegressor\n",
        "regressorDTR = DecisionTreeRegressor(random_state = 0)\n",
        "regressorDTR.fit(X_trainDTR,y_trainDTR)"
      ],
      "execution_count": 65,
      "outputs": [
        {
          "output_type": "execute_result",
          "data": {
            "text/plain": [
              "DecisionTreeRegressor(ccp_alpha=0.0, criterion='mse', max_depth=None,\n",
              "                      max_features=None, max_leaf_nodes=None,\n",
              "                      min_impurity_decrease=0.0, min_impurity_split=None,\n",
              "                      min_samples_leaf=1, min_samples_split=2,\n",
              "                      min_weight_fraction_leaf=0.0, presort='deprecated',\n",
              "                      random_state=0, splitter='best')"
            ]
          },
          "metadata": {},
          "execution_count": 65
        }
      ]
    },
    {
      "cell_type": "markdown",
      "metadata": {
        "id": "YKVnja_BnnAV"
      },
      "source": [
        "5) Random Forest Regression"
      ]
    },
    {
      "cell_type": "code",
      "metadata": {
        "colab": {
          "base_uri": "https://localhost:8080/"
        },
        "id": "uOd2crGMnpek",
        "outputId": "1c4f1ff9-6c51-42eb-96a3-27e6d09e159c"
      },
      "source": [
        "from sklearn.ensemble import RandomForestRegressor\n",
        "regressorRFR = RandomForestRegressor(n_estimators = 10, random_state = 0)\n",
        "regressorRFR.fit(X_trainRFR, y_trainRFR)"
      ],
      "execution_count": 66,
      "outputs": [
        {
          "output_type": "execute_result",
          "data": {
            "text/plain": [
              "RandomForestRegressor(bootstrap=True, ccp_alpha=0.0, criterion='mse',\n",
              "                      max_depth=None, max_features='auto', max_leaf_nodes=None,\n",
              "                      max_samples=None, min_impurity_decrease=0.0,\n",
              "                      min_impurity_split=None, min_samples_leaf=1,\n",
              "                      min_samples_split=2, min_weight_fraction_leaf=0.0,\n",
              "                      n_estimators=10, n_jobs=None, oob_score=False,\n",
              "                      random_state=0, verbose=0, warm_start=False)"
            ]
          },
          "metadata": {},
          "execution_count": 66
        }
      ]
    },
    {
      "cell_type": "markdown",
      "metadata": {
        "id": "jYeLkrJ3dC7b"
      },
      "source": [
        "# Predicting a new result"
      ]
    },
    {
      "cell_type": "markdown",
      "metadata": {
        "id": "TaLtWqyAiWWE"
      },
      "source": [
        "1) Multiple Linear Regression"
      ]
    },
    {
      "cell_type": "code",
      "metadata": {
        "colab": {
          "base_uri": "https://localhost:8080/"
        },
        "id": "bYTleRjUfoXu",
        "outputId": "ad37b059-6964-4349-b40b-8488d59f7b5c"
      },
      "source": [
        "y_predMLR = regressorMLR.predict(X_testMLR)\n",
        "np.set_printoptions(precision=2)\n",
        "print(np.concatenate((y_predMLR.reshape(len(y_predMLR),1), y_testMLR.reshape(len(y_testMLR),1)),1))"
      ],
      "execution_count": 67,
      "outputs": [
        {
          "output_type": "stream",
          "name": "stdout",
          "text": [
            "[[428.05 431.23]\n",
            " [465.79 460.01]\n",
            " [473.08 461.14]\n",
            " ...\n",
            " [472.1  473.26]\n",
            " [453.04 438.  ]\n",
            " [465.42 463.28]]\n"
          ]
        }
      ]
    },
    {
      "cell_type": "markdown",
      "metadata": {
        "id": "mTYRkNJciZNu"
      },
      "source": [
        "2) Polynomial Regression"
      ]
    },
    {
      "cell_type": "code",
      "metadata": {
        "colab": {
          "base_uri": "https://localhost:8080/"
        },
        "id": "p61dWrGLh5q1",
        "outputId": "790d95e2-cfdd-4c67-ecd9-0add80e5b028"
      },
      "source": [
        "y_predPR = regressorPR.predict(polyRegress.fit_transform(X_testPR))\n",
        "np.set_printoptions(precision=2)\n",
        "print(np.concatenate((y_predPR.reshape(len(y_predPR),1), y_testPR.reshape(len(y_testPR),1)),1))"
      ],
      "execution_count": 68,
      "outputs": [
        {
          "output_type": "stream",
          "name": "stdout",
          "text": [
            "[[431.06 431.23]\n",
            " [463.38 460.01]\n",
            " [470.46 461.14]\n",
            " ...\n",
            " [470.29 473.26]\n",
            " [443.2  438.  ]\n",
            " [466.89 463.28]]\n"
          ]
        }
      ]
    },
    {
      "cell_type": "markdown",
      "metadata": {
        "id": "LPB2AVzpkdvy"
      },
      "source": [
        "3) SVR"
      ]
    },
    {
      "cell_type": "code",
      "metadata": {
        "colab": {
          "base_uri": "https://localhost:8080/"
        },
        "id": "Fn6KXnFjkfLJ",
        "outputId": "7a9a63cd-31bc-4050-e54c-ae971eacb30a"
      },
      "source": [
        "y_predSVR = sc_ySVR.inverse_transform(regressorSVR.predict(sc_xSVR.transform(X_testSVR)))\n",
        "np.set_printoptions(precision=2)\n",
        "print(np.concatenate((y_predSVR.reshape(len(y_predSVR),1), y_testSVR.reshape(len(y_testSVR),1)),1))"
      ],
      "execution_count": 69,
      "outputs": [
        {
          "output_type": "stream",
          "name": "stdout",
          "text": [
            "[[432.98 431.23]\n",
            " [460.91 460.01]\n",
            " [468.67 461.14]\n",
            " ...\n",
            " [468.91 473.26]\n",
            " [442.3  438.  ]\n",
            " [464.64 463.28]]\n"
          ]
        }
      ]
    },
    {
      "cell_type": "markdown",
      "metadata": {
        "id": "35I04-QQmP-V"
      },
      "source": [
        "4) Decision Tree Regression"
      ]
    },
    {
      "cell_type": "code",
      "metadata": {
        "colab": {
          "base_uri": "https://localhost:8080/"
        },
        "id": "3ZVlcxBPmO2v",
        "outputId": "6fb6caf0-f7ca-4347-e302-ea6b913b91b2"
      },
      "source": [
        "y_predDTR = regressorDTR.predict(X_testDTR)\n",
        "np.set_printoptions(precision=2)\n",
        "print(np.concatenate((y_predDTR.reshape(len(y_predDTR),1), y_testDTR.reshape(len(y_testDTR),1)),1))"
      ],
      "execution_count": 70,
      "outputs": [
        {
          "output_type": "stream",
          "name": "stdout",
          "text": [
            "[[432.84 431.23]\n",
            " [460.   460.01]\n",
            " [469.73 461.14]\n",
            " ...\n",
            " [471.43 473.26]\n",
            " [438.61 438.  ]\n",
            " [461.7  463.28]]\n"
          ]
        }
      ]
    },
    {
      "cell_type": "markdown",
      "metadata": {
        "id": "zSa_yShPn6kU"
      },
      "source": [
        "5) Random Forest Regression"
      ]
    },
    {
      "cell_type": "code",
      "metadata": {
        "colab": {
          "base_uri": "https://localhost:8080/"
        },
        "id": "9fgwLFlEn8bV",
        "outputId": "35ec302e-bdc5-4e85-839f-04db5b1b1991"
      },
      "source": [
        "y_predRFR = regressorRFR.predict(X_testRFR)\n",
        "np.set_printoptions(precision=2)\n",
        "print(np.concatenate((y_predRFR.reshape(len(y_predRFR),1), y_testRFR.reshape(len(y_testRFR),1)),1))"
      ],
      "execution_count": 71,
      "outputs": [
        {
          "output_type": "stream",
          "name": "stdout",
          "text": [
            "[[434.6  431.23]\n",
            " [458.76 460.01]\n",
            " [469.48 461.14]\n",
            " ...\n",
            " [472.41 473.26]\n",
            " [440.22 438.  ]\n",
            " [463.56 463.28]]\n"
          ]
        }
      ]
    },
    {
      "cell_type": "markdown",
      "metadata": {
        "id": "eCVNz609f689"
      },
      "source": [
        "## Evaluating the Model Performance"
      ]
    },
    {
      "cell_type": "markdown",
      "metadata": {
        "id": "I_-aM-n6m_Qi"
      },
      "source": [
        "1) Multiple Linear Regression"
      ]
    },
    {
      "cell_type": "code",
      "metadata": {
        "colab": {
          "base_uri": "https://localhost:8080/"
        },
        "id": "FEFOPBREoOSV",
        "outputId": "f7dde9d4-2529-4c73-c005-a04179cd6e44"
      },
      "source": [
        "from sklearn.metrics import r2_score\n",
        "r2_score(y_testMLR, y_predMLR)"
      ],
      "execution_count": 72,
      "outputs": [
        {
          "output_type": "execute_result",
          "data": {
            "text/plain": [
              "0.8033292150759015"
            ]
          },
          "metadata": {},
          "execution_count": 72
        }
      ]
    },
    {
      "cell_type": "markdown",
      "metadata": {
        "id": "FTQYXNNcnDeN"
      },
      "source": [
        "2) Polynomial Regression"
      ]
    },
    {
      "cell_type": "code",
      "metadata": {
        "colab": {
          "base_uri": "https://localhost:8080/"
        },
        "id": "aH8GO0yyoOw0",
        "outputId": "bade9ba6-964b-415b-e8b2-512ef4d43ac4"
      },
      "source": [
        "from sklearn.metrics import r2_score\n",
        "r2_score(y_testPR, y_predPR)"
      ],
      "execution_count": 73,
      "outputs": [
        {
          "output_type": "execute_result",
          "data": {
            "text/plain": [
              "0.8418720530590948"
            ]
          },
          "metadata": {},
          "execution_count": 73
        }
      ]
    },
    {
      "cell_type": "markdown",
      "metadata": {
        "id": "u0RvmXndnFTe"
      },
      "source": [
        "3) SVR"
      ]
    },
    {
      "cell_type": "code",
      "metadata": {
        "colab": {
          "base_uri": "https://localhost:8080/"
        },
        "id": "Oth0jDY2f3wV",
        "outputId": "04f6204f-3607-4dbb-da71-020b76148b68"
      },
      "source": [
        "from sklearn.metrics import r2_score\n",
        "r2_score(y_testSVR, y_predSVR)"
      ],
      "execution_count": 74,
      "outputs": [
        {
          "output_type": "execute_result",
          "data": {
            "text/plain": [
              "0.8494246102002505"
            ]
          },
          "metadata": {},
          "execution_count": 74
        }
      ]
    },
    {
      "cell_type": "markdown",
      "metadata": {
        "id": "TV6gtQvpoMx9"
      },
      "source": [
        "4) Decision Tree"
      ]
    },
    {
      "cell_type": "code",
      "metadata": {
        "colab": {
          "base_uri": "https://localhost:8080/"
        },
        "id": "i2p8_HXkoJp2",
        "outputId": "c6590f10-8a12-48c3-c38a-1057a91b8f5e"
      },
      "source": [
        "from sklearn.metrics import r2_score\n",
        "r2_score(y_testDTR, y_predDTR)"
      ],
      "execution_count": 75,
      "outputs": [
        {
          "output_type": "execute_result",
          "data": {
            "text/plain": [
              "0.8783798803904339"
            ]
          },
          "metadata": {},
          "execution_count": 75
        }
      ]
    },
    {
      "cell_type": "markdown",
      "metadata": {
        "id": "H5CKUc8eoKY4"
      },
      "source": [
        "5) Random Forest"
      ]
    },
    {
      "cell_type": "code",
      "metadata": {
        "colab": {
          "base_uri": "https://localhost:8080/"
        },
        "id": "rw8M38RcpIH1",
        "outputId": "c1f2c63c-63df-498d-9dd0-0cf3d71644ab"
      },
      "source": [
        "from sklearn.metrics import r2_score\n",
        "r2_score(y_testRFR, y_predRFR)"
      ],
      "execution_count": 76,
      "outputs": [
        {
          "output_type": "execute_result",
          "data": {
            "text/plain": [
              "0.9348788182361043"
            ]
          },
          "metadata": {},
          "execution_count": 76
        }
      ]
    }
  ]
}