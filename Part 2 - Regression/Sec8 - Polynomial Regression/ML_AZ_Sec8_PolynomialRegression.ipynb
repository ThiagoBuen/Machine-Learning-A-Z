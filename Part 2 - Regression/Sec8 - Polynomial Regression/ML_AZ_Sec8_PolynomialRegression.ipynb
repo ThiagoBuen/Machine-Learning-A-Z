{
  "nbformat": 4,
  "nbformat_minor": 0,
  "metadata": {
    "colab": {
      "name": "ML-AZ-Sec8-PolynomialRegression.ipynb",
      "provenance": []
    },
    "kernelspec": {
      "name": "python3",
      "display_name": "Python 3"
    }
  },
  "cells": [
    {
      "cell_type": "markdown",
      "metadata": {
        "id": "l_LulNCC8z96"
      },
      "source": [
        "## Polynomial Regression Model\n",
        "\n",
        "1.   Create a model to predict the previous salary based on the position level.\n",
        "2.   **Input** = Position_Salaries.csv\n",
        "\n",
        "\n",
        "\n"
      ]
    },
    {
      "cell_type": "markdown",
      "metadata": {
        "id": "xpXdowrE9DxW"
      },
      "source": [
        "## Importing the libraries"
      ]
    },
    {
      "cell_type": "code",
      "metadata": {
        "id": "nhKd4hWx9GFt"
      },
      "source": [
        "import numpy as np\n",
        "import matplotlib.pyplot as plt       #graphs\n",
        "import pandas as pd"
      ],
      "execution_count": 1,
      "outputs": []
    },
    {
      "cell_type": "markdown",
      "metadata": {
        "id": "31oDCD5JFvri"
      },
      "source": [
        "# Importing the dataset"
      ]
    },
    {
      "cell_type": "code",
      "metadata": {
        "id": "XCX22pc2F8Cz"
      },
      "source": [
        "dataset = pd.read_csv('Position_Salaries.csv')\n",
        "x = dataset.iloc[:, 1:-1].values      #There is no need to use the column Position\n",
        "y = dataset.iloc[:,-1].values\n"
      ],
      "execution_count": 2,
      "outputs": []
    },
    {
      "cell_type": "markdown",
      "metadata": {
        "id": "KltxQ4G4Fzsp"
      },
      "source": [
        "# Splitting the dataset into Training set and Test set"
      ]
    },
    {
      "cell_type": "markdown",
      "metadata": {
        "id": "waPMK85dbfIp"
      },
      "source": [
        "###As the dataset is not massive, there is no need to split\n",
        "\n"
      ]
    },
    {
      "cell_type": "markdown",
      "metadata": {
        "id": "E--Vc-xXF-Si"
      },
      "source": [
        "# Training the Linear Regression model on the whole set"
      ]
    },
    {
      "cell_type": "code",
      "metadata": {
        "colab": {
          "base_uri": "https://localhost:8080/"
        },
        "id": "A_hMNF2rG6Mj",
        "outputId": "27eb6212-7244-4d9c-fae8-9a2e9c419a51"
      },
      "source": [
        "from sklearn.linear_model import LinearRegression\n",
        "linearRegressor = LinearRegression()     \n",
        "linearRegressor.fit(x,y)     \n"
      ],
      "execution_count": 4,
      "outputs": [
        {
          "output_type": "execute_result",
          "data": {
            "text/plain": [
              "LinearRegression(copy_X=True, fit_intercept=True, n_jobs=None, normalize=False)"
            ]
          },
          "metadata": {},
          "execution_count": 4
        }
      ]
    },
    {
      "cell_type": "markdown",
      "metadata": {
        "id": "jYeLkrJ3dC7b"
      },
      "source": [
        "# Training the Polynomial Regression model on the whole set"
      ]
    },
    {
      "cell_type": "code",
      "metadata": {
        "colab": {
          "base_uri": "https://localhost:8080/"
        },
        "id": "PoNGBgo-dFFx",
        "outputId": "93814d20-582e-4e1f-85d6-d20100ca738e"
      },
      "source": [
        "from sklearn.preprocessing import PolynomialFeatures\n",
        "poly_reg = PolynomialFeatures(degree = 5)\n",
        "x_poly = poly_reg.fit_transform(x)\n",
        "lin_reg_poly = LinearRegression()\n",
        "lin_reg_poly.fit(x_poly,y)\n"
      ],
      "execution_count": 38,
      "outputs": [
        {
          "output_type": "execute_result",
          "data": {
            "text/plain": [
              "LinearRegression(copy_X=True, fit_intercept=True, n_jobs=None, normalize=False)"
            ]
          },
          "metadata": {},
          "execution_count": 38
        }
      ]
    },
    {
      "cell_type": "markdown",
      "metadata": {
        "id": "P5YEn0XRG0Jc"
      },
      "source": [
        "# Visualising the Linear Regression results"
      ]
    },
    {
      "cell_type": "code",
      "metadata": {
        "colab": {
          "base_uri": "https://localhost:8080/",
          "height": 295
        },
        "id": "4yvC9aM9KNUt",
        "outputId": "acbe165b-d2de-42d1-a415-cc472dbafd3d"
      },
      "source": [
        "plt.scatter(x, y, color = 'red', label='Real Data')\n",
        "plt.plot(x,linearRegressor.predict(x), color = 'green', label='Predicted Regression' )\n",
        "plt.title('Position x Salary')\n",
        "plt.xlabel('Position')\n",
        "plt.ylabel('Salary')\n",
        "plt.legend()\n",
        "plt.show()"
      ],
      "execution_count": 7,
      "outputs": [
        {
          "output_type": "display_data",
          "data": {
            "image/png": "[encoded data removed]",
            "text/plain": [
              "<Figure size 432x288 with 1 Axes>"
            ]
          },
          "metadata": {
            "needs_background": "light"
          }
        }
      ]
    },
    {
      "cell_type": "markdown",
      "metadata": {
        "id": "LkFGRQryJKUa"
      },
      "source": [
        "# Visualising the PR  results"
      ]
    },
    {
      "cell_type": "code",
      "metadata": {
        "colab": {
          "base_uri": "https://localhost:8080/",
          "height": 295
        },
        "id": "scJZ4TJBKNzS",
        "outputId": "1e1c9693-b6bc-4d96-8c68-a9ebc1c05941"
      },
      "source": [
        "plt.scatter(x, y, color = 'red', label='Real Data')\n",
        "plt.plot(x,lin_reg_poly.predict(x_poly), color = 'green', label='Predicted Regression' )\n",
        "plt.title('Position x Salary')\n",
        "plt.xlabel('Position')\n",
        "plt.ylabel('Salary')\n",
        "plt.legend()\n",
        "plt.show()"
      ],
      "execution_count": 25,
      "outputs": [
        {
          "output_type": "display_data",
          "data": {
            "image/png": "[encoded data removed]",
            "text/plain": [
              "<Figure size 432x288 with 1 Axes>"
            ]
          },
          "metadata": {
            "needs_background": "light"
          }
        }
      ]
    },
    {
      "cell_type": "markdown",
      "metadata": {
        "id": "TAVOMi1Uh6yI"
      },
      "source": [
        "##Visualising the PR results (for higher res and smoother curve)"
      ]
    },
    {
      "cell_type": "code",
      "metadata": {
        "colab": {
          "base_uri": "https://localhost:8080/",
          "height": 295
        },
        "id": "pmM0BQ0hiBJR",
        "outputId": "24d16217-1a2f-4b3b-ddad-39db895f1468"
      },
      "source": [
        "x_grid = np.arange(min(x), max(x), 0.1)\n",
        "x_grid = x_grid.reshape((len(x_grid),1))\n",
        "plt.scatter(x,y,color='red')\n",
        "plt.plot(x_grid, lin_reg_poly.predict(poly_reg.fit_transform(x_grid)),color='black')\n",
        "plt.title('Graph HD')\n",
        "plt.xlabel('Position level')\n",
        "plt.ylabel('Salary')\n",
        "plt.show()"
      ],
      "execution_count": 39,
      "outputs": [
        {
          "output_type": "display_data",
          "data": {
            "image/png": "[encoded data removed]",
            "text/plain": [
              "<Figure size 432x288 with 1 Axes>"
            ]
          },
          "metadata": {
            "needs_background": "light"
          }
        }
      ]
    },
    {
      "cell_type": "code",
      "metadata": {
        "colab": {
          "base_uri": "https://localhost:8080/",
          "height": 295
        },
        "id": "hEddASG1kzKi",
        "outputId": "7e776f82-a4af-4ccf-910a-2e507063a9a5"
      },
      "source": [
        "x_grid = np.arange(min(x), max(x), 0.1)\n",
        "x_grid = x_grid.reshape((len(x_grid),1))\n",
        "y_lin = linearRegressor.predict(x_grid)\n",
        "y_poly = lin_reg_poly.predict(poly_reg.fit_transform(x_grid))\n",
        "error = y_poly - y_lin\n",
        "plt.plot(x_grid, error,color='black')\n",
        "plt.title('Poly - linear Error Graph')\n",
        "plt.xlabel('Position level')\n",
        "plt.ylabel('Salary')\n",
        "plt.show()"
      ],
      "execution_count": 57,
      "outputs": [
        {
          "output_type": "display_data",
          "data": {
            "image/png": "[encoded data removed]",
            "text/plain": [
              "<Figure size 432x288 with 1 Axes>"
            ]
          },
          "metadata": {
            "needs_background": "light"
          }
        }
      ]
    },
    {
      "cell_type": "markdown",
      "metadata": {
        "id": "TYeyUbBLNsya"
      },
      "source": [
        "# Predicting from the model"
      ]
    },
    {
      "cell_type": "code",
      "metadata": {
        "colab": {
          "base_uri": "https://localhost:8080/"
        },
        "id": "G-7cBqmWNyiL",
        "outputId": "c68091a1-f203-4bd9-824d-511ceee74874"
      },
      "source": [
        "print(linearRegressor.predict([[6.5]])) #Linear Regression"
      ],
      "execution_count": 46,
      "outputs": [
        {
          "output_type": "stream",
          "name": "stdout",
          "text": [
            "[330378.78787879]\n"
          ]
        }
      ]
    },
    {
      "cell_type": "code",
      "metadata": {
        "colab": {
          "base_uri": "https://localhost:8080/"
        },
        "id": "mDNLA5qzhta0",
        "outputId": "1d66670e-3618-444c-d0f3-6a7a673c62b8"
      },
      "source": [
        "print(lin_reg_poly.predict(poly_reg.fit_transform([[6.5]])))  #Polynomial Regression"
      ],
      "execution_count": 54,
      "outputs": [
        {
          "output_type": "stream",
          "name": "stdout",
          "text": [
            "[174878.07765172]\n"
          ]
        }
      ]
    }
  ]
}