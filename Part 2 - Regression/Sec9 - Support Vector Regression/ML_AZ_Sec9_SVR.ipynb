{
  "nbformat": 4,
  "nbformat_minor": 0,
  "metadata": {
    "colab": {
      "name": "ML-AZ-Sec9-SVR.ipynb",
      "provenance": []
    },
    "kernelspec": {
      "display_name": "Python 3",
      "name": "python3"
    }
  },
  "cells": [
    {
      "cell_type": "markdown",
      "metadata": {
        "id": "l_LulNCC8z96"
      },
      "source": [
        "## Suport Vector Regression\n",
        "\n",
        "1.   Create a model to predict the previous salary based on the position level.\n",
        "2.   **Input** = Position_Salaries.csv\n",
        "\n",
        "\n",
        "\n"
      ]
    },
    {
      "cell_type": "markdown",
      "metadata": {
        "id": "xpXdowrE9DxW"
      },
      "source": [
        "## Importing the libraries"
      ]
    },
    {
      "cell_type": "code",
      "metadata": {
        "id": "nhKd4hWx9GFt"
      },
      "source": [
        "import numpy as np\n",
        "import matplotlib.pyplot as plt       #graphs\n",
        "import pandas as pd"
      ],
      "execution_count": 1,
      "outputs": []
    },
    {
      "cell_type": "markdown",
      "metadata": {
        "id": "31oDCD5JFvri"
      },
      "source": [
        "# Importing the dataset"
      ]
    },
    {
      "cell_type": "code",
      "metadata": {
        "id": "XCX22pc2F8Cz"
      },
      "source": [
        "dataset = pd.read_csv('Position_Salaries.csv')\n",
        "x = dataset.iloc[:, 1:-1].values      #There is no need to use the column Position\n",
        "y = dataset.iloc[:,-1].values\n"
      ],
      "execution_count": 2,
      "outputs": []
    },
    {
      "cell_type": "markdown",
      "metadata": {
        "id": "KltxQ4G4Fzsp"
      },
      "source": [
        "# Feature Scailing"
      ]
    },
    {
      "cell_type": "markdown",
      "metadata": {
        "id": "E--Vc-xXF-Si"
      },
      "source": [
        "# Training the SVR model on the whole set"
      ]
    },
    {
      "cell_type": "markdown",
      "metadata": {
        "id": "jYeLkrJ3dC7b"
      },
      "source": [
        "# Predicting a new result"
      ]
    },
    {
      "cell_type": "markdown",
      "metadata": {
        "id": "P5YEn0XRG0Jc"
      },
      "source": [
        "# Visualising the SVR results"
      ]
    },
    {
      "cell_type": "markdown",
      "metadata": {
        "id": "LkFGRQryJKUa"
      },
      "source": [
        "# Visualising the VSR  results HD"
      ]
    }
  ]
}