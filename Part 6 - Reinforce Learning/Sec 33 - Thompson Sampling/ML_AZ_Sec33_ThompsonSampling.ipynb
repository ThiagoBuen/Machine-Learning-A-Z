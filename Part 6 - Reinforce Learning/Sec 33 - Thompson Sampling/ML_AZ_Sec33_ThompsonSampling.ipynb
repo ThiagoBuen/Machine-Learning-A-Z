{
  "nbformat": 4,
  "nbformat_minor": 0,
  "metadata": {
    "colab": {
      "name": "ML-AZ-Sec33-ThompsonSampling.ipynb",
      "provenance": [],
      "collapsed_sections": []
    },
    "kernelspec": {
      "display_name": "Python 3",
      "name": "python3"
    }
  },
  "cells": [
    {
      "cell_type": "markdown",
      "metadata": {
        "id": "l_LulNCC8z96"
      },
      "source": [
        "## Thompson Sampling Algorithm\n",
        "\n",
        "1.   Apply the Thompson Sampling algorithm to optimize the best ad to convert the best customers' click rate\n",
        "\n",
        "2.   **Input** = Ads_CTR_Optimisation.csv \n",
        "\n",
        "\n",
        "\n",
        "\n"
      ]
    },
    {
      "cell_type": "markdown",
      "metadata": {
        "id": "xpXdowrE9DxW"
      },
      "source": [
        "## Importing the libraries"
      ]
    },
    {
      "cell_type": "code",
      "metadata": {
        "id": "nhKd4hWx9GFt"
      },
      "source": [
        "import numpy as np\n",
        "import matplotlib.pyplot as plt       #graphs\n",
        "import pandas as pd"
      ],
      "execution_count": 51,
      "outputs": []
    },
    {
      "cell_type": "markdown",
      "metadata": {
        "id": "E--Vc-xXF-Si"
      },
      "source": [
        "# Importing the dataset"
      ]
    },
    {
      "cell_type": "code",
      "metadata": {
        "id": "XCX22pc2F8Cz"
      },
      "source": [
        "dataset = pd.read_csv('Ads_CTR_Optimisation.csv')"
      ],
      "execution_count": 52,
      "outputs": []
    },
    {
      "cell_type": "code",
      "metadata": {
        "colab": {
          "base_uri": "https://localhost:8080/"
        },
        "id": "d9FQJ8W_ETyF",
        "outputId": "7e9e304c-c053-4d6e-b58b-ce320625234d"
      },
      "source": [
        "print(len(dataset))"
      ],
      "execution_count": 53,
      "outputs": [
        {
          "output_type": "stream",
          "name": "stdout",
          "text": [
            "10000\n"
          ]
        }
      ]
    },
    {
      "cell_type": "markdown",
      "metadata": {
        "id": "9FS_CMupdWvR"
      },
      "source": [
        "#Implementing Thompson Sampling"
      ]
    },
    {
      "cell_type": "code",
      "metadata": {
        "id": "K_UKH0_9GSrT"
      },
      "source": [
        "import random"
      ],
      "execution_count": 54,
      "outputs": []
    },
    {
      "cell_type": "code",
      "metadata": {
        "id": "8akq12NEFCK4"
      },
      "source": [
        "N = 500\n",
        "d = 10\n",
        "ads_selected = []\n",
        "numbers_of_rewards_1 = [0] * d\n",
        "numbers_of_rewards_0 = [0] * d \n",
        "total_reward = 0\n",
        "for n in range(0,N):\n",
        "  ad = 0\n",
        "  max_random = 0\n",
        "  for i in range(0,d):\n",
        "    random_beta = random.betavariate(numbers_of_rewards_1[i] + 1, numbers_of_rewards_0[i] + 1)\n",
        "    if (random_beta > max_random):\n",
        "      max_random = random_beta\n",
        "      ad = i\n",
        "  ads_selected.append(ad)\n",
        "  reward = dataset.values[n, ad]\n",
        "  if reward == 1: \n",
        "    numbers_of_rewards_1[ad] += 1\n",
        "  else:\n",
        "    numbers_of_rewards_0[ad] += 1\n",
        "  total_reward += reward"
      ],
      "execution_count": 55,
      "outputs": []
    },
    {
      "cell_type": "code",
      "metadata": {
        "id": "CuVcZ6xLKuD1",
        "colab": {
          "base_uri": "https://localhost:8080/"
        },
        "outputId": "2487db06-7003-4409-feaa-1988dd1ee3fe"
      },
      "source": [
        "print(ads_selected)"
      ],
      "execution_count": 56,
      "outputs": [
        {
          "output_type": "stream",
          "name": "stdout",
          "text": [
            "[6, 0, 8, 2, 1, 1, 9, 4, 7, 5, 5, 4, 4, 1, 4, 3, 3, 0, 9, 7, 6, 8, 1, 7, 9, 2, 0, 6, 1, 4, 8, 7, 1, 2, 4, 8, 3, 4, 0, 5, 3, 7, 8, 7, 4, 1, 5, 4, 7, 7, 7, 7, 3, 1, 7, 5, 9, 7, 5, 4, 7, 7, 4, 2, 7, 3, 7, 2, 4, 3, 7, 0, 8, 4, 6, 9, 6, 0, 2, 9, 7, 6, 1, 6, 6, 3, 1, 2, 0, 9, 6, 6, 4, 0, 6, 9, 1, 3, 6, 8, 0, 3, 7, 6, 9, 3, 4, 8, 7, 8, 6, 6, 1, 5, 7, 1, 5, 6, 7, 7, 6, 3, 7, 4, 7, 3, 3, 4, 7, 8, 8, 3, 1, 8, 8, 3, 3, 6, 0, 8, 7, 3, 7, 1, 0, 3, 4, 7, 7, 0, 0, 0, 7, 6, 8, 3, 3, 1, 8, 1, 4, 7, 8, 7, 3, 4, 8, 0, 7, 7, 6, 7, 7, 7, 2, 7, 9, 3, 8, 3, 8, 3, 6, 2, 7, 8, 5, 2, 3, 0, 5, 1, 8, 7, 3, 1, 8, 2, 0, 1, 7, 6, 8, 1, 4, 3, 7, 6, 3, 7, 7, 7, 7, 3, 3, 7, 4, 9, 7, 4, 7, 7, 9, 7, 6, 7, 0, 1, 6, 4, 3, 0, 7, 7, 7, 7, 4, 7, 4, 6, 4, 3, 6, 8, 6, 0, 7, 6, 4, 1, 7, 5, 7, 4, 7, 1, 7, 6, 1, 1, 4, 1, 7, 3, 4, 4, 0, 4, 0, 2, 0, 7, 9, 7, 1, 3, 4, 7, 8, 4, 3, 2, 3, 7, 7, 7, 7, 7, 5, 6, 1, 6, 7, 3, 4, 6, 1, 6, 7, 6, 6, 3, 7, 8, 7, 4, 4, 4, 7, 6, 5, 3, 4, 7, 3, 7, 4, 4, 7, 7, 7, 0, 7, 1, 7, 6, 7, 4, 7, 7, 7, 4, 7, 0, 5, 4, 4, 4, 7, 6, 4, 4, 8, 7, 7, 4, 4, 7, 4, 4, 6, 4, 5, 0, 4, 5, 4, 1, 4, 4, 7, 6, 8, 4, 4, 6, 7, 3, 7, 4, 4, 7, 6, 4, 2, 7, 7, 0, 4, 7, 4, 7, 7, 4, 7, 4, 4, 7, 0, 3, 4, 7, 4, 4, 7, 4, 4, 7, 7, 7, 0, 4, 4, 4, 4, 4, 4, 7, 7, 4, 1, 4, 4, 4, 1, 4, 4, 4, 7, 4, 4, 3, 4, 4, 4, 0, 9, 7, 4, 4, 4, 1, 4, 3, 7, 4, 4, 4, 4, 4, 2, 4, 4, 4, 4, 3, 4, 4, 4, 7, 7, 4, 4, 4, 4, 7, 7, 7, 7, 4, 4, 7, 4, 4, 6, 6, 4, 4, 4, 7, 4, 6, 4, 4, 6, 4, 4, 4, 4, 7, 4, 4, 4, 4, 4, 4, 4, 5, 7, 4, 7, 4, 4, 4, 6, 4, 4, 4, 3, 4]\n"
          ]
        }
      ]
    },
    {
      "cell_type": "markdown",
      "metadata": {
        "id": "YsgM4SdJi-XS"
      },
      "source": [
        "##Visualising the results\n"
      ]
    },
    {
      "cell_type": "code",
      "metadata": {
        "colab": {
          "base_uri": "https://localhost:8080/",
          "height": 295
        },
        "id": "QzIp_DvRCKhG",
        "outputId": "ac88f22b-6901-4924-a899-caca3d50f50e"
      },
      "source": [
        "plt.hist(ads_selected)\n",
        "plt.title('Histogram of ads selections')\n",
        "plt.xlabel('Ads')\n",
        "plt.ylabel('Number of times each ad was selected')\n",
        "plt.show()"
      ],
      "execution_count": 57,
      "outputs": [
        {
          "output_type": "display_data",
          "data": {
            "image/png": "[encoded data removed]",
            "text/plain": [
              "<Figure size 432x288 with 1 Axes>"
            ]
          },
          "metadata": {
            "needs_background": "light"
          }
        }
      ]
    },
    {
      "cell_type": "code",
      "metadata": {
        "id": "93o9HHSyLNQi"
      },
      "source": [
        ""
      ],
      "execution_count": 57,
      "outputs": []
    }
  ]
}