{
  "nbformat": 4,
  "nbformat_minor": 0,
  "metadata": {
    "colab": {
      "name": "ML-AZ-Sec32-UpperConfidenceBound.ipynb",
      "provenance": [],
      "collapsed_sections": []
    },
    "kernelspec": {
      "display_name": "Python 3",
      "name": "python3"
    }
  },
  "cells": [
    {
      "cell_type": "markdown",
      "metadata": {
        "id": "l_LulNCC8z96"
      },
      "source": [
        "## Upper Confidence Bound (UCB) Algorithm\n",
        "\n",
        "1.   Apply the Upper Confidence Bound algorithm to optimize the best ad to convert the best customers' click rate\n",
        "\n",
        "2.   **Input** = Ads_CTR_Optimisation.csv \n",
        "\n",
        "\n",
        "\n",
        "\n"
      ]
    },
    {
      "cell_type": "markdown",
      "metadata": {
        "id": "xpXdowrE9DxW"
      },
      "source": [
        "## Importing the libraries"
      ]
    },
    {
      "cell_type": "code",
      "metadata": {
        "id": "nhKd4hWx9GFt"
      },
      "source": [
        "import numpy as np\n",
        "import matplotlib.pyplot as plt       #graphs\n",
        "import pandas as pd"
      ],
      "execution_count": 1,
      "outputs": []
    },
    {
      "cell_type": "markdown",
      "metadata": {
        "id": "E--Vc-xXF-Si"
      },
      "source": [
        "# Importing the dataset"
      ]
    },
    {
      "cell_type": "code",
      "metadata": {
        "id": "XCX22pc2F8Cz"
      },
      "source": [
        "dataset = pd.read_csv('Ads_CTR_Optimisation.csv')"
      ],
      "execution_count": 2,
      "outputs": []
    },
    {
      "cell_type": "code",
      "metadata": {
        "colab": {
          "base_uri": "https://localhost:8080/"
        },
        "id": "d9FQJ8W_ETyF",
        "outputId": "7e757ff9-1ecd-46f2-d654-9e1b90860c65"
      },
      "source": [
        "print(len(dataset))"
      ],
      "execution_count": 3,
      "outputs": [
        {
          "output_type": "stream",
          "name": "stdout",
          "text": [
            "10000\n"
          ]
        }
      ]
    },
    {
      "cell_type": "markdown",
      "metadata": {
        "id": "9FS_CMupdWvR"
      },
      "source": [
        "#Implementing UCB"
      ]
    },
    {
      "cell_type": "code",
      "metadata": {
        "id": "K_UKH0_9GSrT"
      },
      "source": [
        "import math"
      ],
      "execution_count": 6,
      "outputs": []
    },
    {
      "cell_type": "code",
      "metadata": {
        "id": "ui3FyLGRCbzj"
      },
      "source": [
        "N = 525\n",
        "d = 10\n",
        "ads_selected = []\n",
        "numbers_of_selections = [0] * d \n",
        "sums_of_rewards = [0] * d\n",
        "total_reward = 0"
      ],
      "execution_count": 47,
      "outputs": []
    },
    {
      "cell_type": "code",
      "metadata": {
        "id": "8akq12NEFCK4"
      },
      "source": [
        "for n in range(0,N):\n",
        "  ad = 0\n",
        "  max_upper_bound = 0\n",
        "  for i in range(0,d):\n",
        "    if numbers_of_selections[i] > 0:\n",
        "      average_reward = sums_of_rewards[i] / numbers_of_selections[i]\n",
        "      delta_i = math.sqrt(1.5*math.log(n+1)/numbers_of_selections[i])\n",
        "      upper_bound = average_reward + delta_i\n",
        "    else:\n",
        "      upper_bound = 1e400\n",
        "    if upper_bound > max_upper_bound:\n",
        "      max_upper_bound = upper_bound\n",
        "      ad = i\n",
        "  ads_selected.append(ad)\n",
        "  numbers_of_selections[ad] += 1\n",
        "  reward = dataset.values[n, ad]\n",
        "  sums_of_rewards[ad] += reward\n",
        "  total_reward += reward"
      ],
      "execution_count": 48,
      "outputs": []
    },
    {
      "cell_type": "code",
      "metadata": {
        "id": "CuVcZ6xLKuD1"
      },
      "source": [
        "print(ads_selected)"
      ],
      "execution_count": null,
      "outputs": []
    },
    {
      "cell_type": "markdown",
      "metadata": {
        "id": "YsgM4SdJi-XS"
      },
      "source": [
        "##Visualising the results\n"
      ]
    },
    {
      "cell_type": "code",
      "metadata": {
        "colab": {
          "base_uri": "https://localhost:8080/",
          "height": 295
        },
        "id": "QzIp_DvRCKhG",
        "outputId": "4b6931d7-01c4-44db-ef2f-3e33aa5c59e3"
      },
      "source": [
        "plt.hist(ads_selected)\n",
        "plt.title('Histogram of ads selections')\n",
        "plt.xlabel('Ads')\n",
        "plt.ylabel('Number of times each ad was selected')\n",
        "plt.show()"
      ],
      "execution_count": 49,
      "outputs": [
        {
          "output_type": "display_data",
          "data": {
            "image/png": "[encoded data removed]",
            "text/plain": [
              "<Figure size 432x288 with 1 Axes>"
            ]
          },
          "metadata": {
            "needs_background": "light"
          }
        }
      ]
    },
    {
      "cell_type": "code",
      "metadata": {
        "id": "93o9HHSyLNQi"
      },
      "source": [
        ""
      ],
      "execution_count": null,
      "outputs": []
    }
  ]
}